{
 "cells": [
  {
   "cell_type": "markdown",
   "metadata": {},
   "source": [
    "Here I am trying to implement a k-nearest clustering algorithm based on TF-IDF scores in documents.\n",
    "\n",
    "I am using this tutorial recommended by Lisa as a starting point: https://www.kaggle.com/jbencina/clustering-documents-with-tfidf-and-kmeans "
   ]
  }
 ],
 "metadata": {
  "language_info": {
   "codemirror_mode": {
    "name": "ipython",
    "version": 3
   },
   "file_extension": ".py",
   "mimetype": "text/x-python",
   "name": "python",
   "nbconvert_exporter": "python",
   "pygments_lexer": "ipython3",
   "version": 3
  },
  "orig_nbformat": 2
 },
 "nbformat": 4,
 "nbformat_minor": 2
}